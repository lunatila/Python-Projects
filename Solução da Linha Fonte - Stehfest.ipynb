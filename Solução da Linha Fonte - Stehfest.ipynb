{
 "cells": [
  {
   "cell_type": "code",
   "execution_count": 45,
   "id": "6289fb84",
   "metadata": {},
   "outputs": [],
   "source": [
    "#========================================\n",
    "# Bibliotecas Necessárias\n",
    "# Data: 25/09/2022\n",
    "# Autor: Átila Luna\n",
    "#========================================\n",
    "\n",
    "import numpy as np\n",
    "from numpy import log as ln\n",
    "import math\n",
    "import matplotlib.pyplot as plt\n",
    "import scipy.special as sc"
   ]
  },
  {
   "cell_type": "code",
   "execution_count": 46,
   "id": "121128e6",
   "metadata": {},
   "outputs": [],
   "source": [
    "#========================================\n",
    "# Constantes do problema\n",
    "# Data: 25/09/2022\n",
    "# Autor: Átila Luna\n",
    "#========================================\n",
    "\n",
    "alphat = 1\n",
    "p_i = 250.0\n",
    "rw = 0,1\n",
    "r1 = 10.0\n",
    "r2 = 300.0\n",
    "\n",
    "phi = [0.27, 0.27, 0.27]\n",
    "k = [500, 1000, 500]\n",
    "ct = [120e-06, 120e-06, 120e-06]\n",
    "mu = [5, 5, 5]\n",
    "eta = np.zeros(3)\n",
    "\n",
    "for i in range(3):\n",
    "    eta[i] = alphat*k[i]/(phi[i]*mu[i]*ct[i])\n"
   ]
  },
  {
   "cell_type": "code",
   "execution_count": 47,
   "id": "e597e7b6",
   "metadata": {},
   "outputs": [],
   "source": [
    "#========================================\n",
    "# Funções úteis\n",
    "# Data: 25/09/2022\n",
    "# Autor: Átila Luna\n",
    "#========================================\n",
    "# Fatorial de um número\n",
    "#========================================\n",
    "def fac(n): \n",
    "    if (n==0 or n==1):\n",
    "        return 1\n",
    "    else:\n",
    "        return n * fac(n-1)\n",
    "#========================================\n",
    "# Derivada Logarítmica\n",
    "#========================================\n",
    "def DerivLog(x1,y1,xc,yc,x2,y2): \n",
    "    d1=((y2-yc)/ln(x2/xc))*(ln(xc/x1)/ln(x2/x1))\n",
    "    d2=((yc-y1)/ln(xc/x1))*(ln(x2/xc)/ln(x2/x1))\n",
    "    return (d1+d2)"
   ]
  },
  {
   "cell_type": "code",
   "execution_count": 48,
   "id": "ff0ec04e",
   "metadata": {},
   "outputs": [],
   "source": [
    "# =======================================\n",
    "# Solução da Linha-Fonte\n",
    "# Data: 25/09/2022\n",
    "# Autor: Átila Luna\n",
    "# =======================================\n",
    "def FT_LINHAFONTE(u):\n",
    "    #return sc.kn(0,1*math.sqrt(u))/u;\n",
    "    return sc.kn(0,1*math.sqrt(u))/(u**(3/2)*sc.kn(1,math.sqrt(u)))"
   ]
  },
  {
   "cell_type": "code",
   "execution_count": 100,
   "id": "29fadd96",
   "metadata": {},
   "outputs": [],
   "source": [
    "# =======================================\n",
    "# Exemplo 2.14\n",
    "# Data: 25/09/2022\n",
    "# Autor: Átila Luna\n",
    "# =======================================\n",
    "def FT1_LINHAFONTE(u):\n",
    "    M = [[sc.kv(0,100*math.sqrt(u)), sc.iv(0, 100*math.sqrt(u))],\n",
    "         [sc.kv(1,math.sqrt(u)), (-1)*sc.iv(1, math.sqrt(u))]]\n",
    "    b = [0, 1/(u**(3/2))]\n",
    "    Minv = np.linalg.inv(M)\n",
    "    [A, B] = np.dot(Minv,b)\n",
    "    \n",
    "    return A*sc.kn(0, 1*math.sqrt(u)) + B*sc.iv(0, 1*math.sqrt(u))"
   ]
  },
  {
   "cell_type": "code",
   "execution_count": 101,
   "id": "640d629c",
   "metadata": {},
   "outputs": [],
   "source": [
    "# ===============================================================================================\n",
    "# Rotina para inversão numérica de uma função no espaço de Laplace pelo algoritimo de Stehfest\n",
    "# Data: 25/09/2022\n",
    "# Autor: Átila Luna\n",
    "# ===============================================================================================\n",
    "\n",
    "def CALCULA_PD(td):\n",
    "    \n",
    "    N = 12; # NP_STEHFEST\n",
    "\n",
    "    v = np.zeros(65)\n",
    "    for i in range(1, N+1):\n",
    "        somat = 0\n",
    "        inis = math.floor((i + 1)/2)\n",
    "        fins = min(i,math.floor(N/2))\n",
    "        a0=(-1)**(i+(N/2))\n",
    "\n",
    "        for k in range(inis, fins+1):\n",
    "            a1=k**(1+(N/2))\n",
    "            a2a=2*k\n",
    "            a2b=fac(a2a)\n",
    "            a3a=((N/2)-k)\n",
    "            a3b=fac(a3a)\n",
    "            a4a=fac(k)\n",
    "            a4b=a4a**2\n",
    "            a5a=i-k\n",
    "            a5b=fac(a5a)\n",
    "            a6a=((2*k)-i)\n",
    "            a6b=fac(a6a)\n",
    "            somat=somat+(((a1*a2b)/(a3b*a4b*a5b*a6b)))\n",
    "        v[i] = a0 * somat\n",
    "    st = 0\n",
    "    for m in range(1, N+1):\n",
    "        u = m * ln(2.0) / td\n",
    "    #=================================    \n",
    "    # AQUI ENTRA A FUNÇÃO QUE EU QUERO    \n",
    "    #================================\n",
    "        st = st + v[m] * FT1_LINHAFONTE(u)\n",
    "    return ln(2.0) * st / td"
   ]
  },
  {
   "cell_type": "code",
   "execution_count": 103,
   "id": "0c4315c6",
   "metadata": {},
   "outputs": [
    {
     "data": {
      "image/png": "[encoded data removed]",
      "text/plain": [
       "<Figure size 576x432 with 1 Axes>"
      ]
     },
     "metadata": {
      "needs_background": "light"
     },
     "output_type": "display_data"
    }
   ],
   "source": [
    "tDi = 0.1\n",
    "tDf = 10000\n",
    "\n",
    "n = 1\n",
    "\n",
    "tD = np.zeros(65)\n",
    "pD = np.zeros(65)\n",
    "tD[0] = tDi\n",
    "\n",
    "while tDi <= tDf:\n",
    "    pD[n]=CALCULA_PD(tDi)\n",
    "    tD[n]=tDi\n",
    "    tDi=tDi*1.2\n",
    "    n=n+1\n",
    "\n",
    "PDLinha = np.zeros(65)\n",
    "for n_p in range(2, n-1):\n",
    "    PDLinha[n_p]=DerivLog(tD[n_p-1],pD[n_p-1],tD[n_p],pD[n_p],tD[n_p+1],pD[n_p+1])\n",
    "\n",
    "PDLinha[1]=PDLinha[2]\n",
    "PDLinha[0]=PDLinha[1]\n",
    "PDLinha[n-1]=PDLinha[n-2]\n",
    "pD[0] = pD[1]\n",
    "\n",
    "fig = plt.figure(figsize=(8,6))\n",
    "plt.plot(tD,pD)\n",
    "plt.plot(tD,PDLinha)\n",
    "plt.grid()\n",
    "plt.title(\"Gráfico log-log\")\n",
    "plt.xscale(\"log\")\n",
    "plt.yscale(\"log\")\n",
    "plt.xlabel(\"Tempo (h)\", fontsize=12)\n",
    "plt.ylabel(\"Delta P e Derivada Logaritmica de Delta P (kgf/cm2)\", fontsize=12)\n",
    "plt.show()"
   ]
  },
  {
   "cell_type": "code",
   "execution_count": null,
   "id": "e402fb38",
   "metadata": {},
   "outputs": [],
   "source": []
  }
 ],
 "metadata": {
  "kernelspec": {
   "display_name": "Python 3 (ipykernel)",
   "language": "python",
   "name": "python3"
  },
  "language_info": {
   "codemirror_mode": {
    "name": "ipython",
    "version": 3
   },
   "file_extension": ".py",
   "mimetype": "text/x-python",
   "name": "python",
   "nbconvert_exporter": "python",
   "pygments_lexer": "ipython3",
   "version": "3.9.12"
  }
 },
 "nbformat": 4,
 "nbformat_minor": 5
}
